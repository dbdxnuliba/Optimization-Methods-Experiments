{
 "cells": [
  {
   "cell_type": "markdown",
   "id": "4af967f8",
   "metadata": {
    "ExecuteTime": {
     "end_time": "2021-11-25T09:45:15.564768Z",
     "start_time": "2021-11-25T09:45:15.517998Z"
    }
   },
   "source": [
    "# 导入必要的包"
   ]
  },
  {
   "cell_type": "code",
   "execution_count": 1,
   "id": "edcf636e",
   "metadata": {
    "ExecuteTime": {
     "end_time": "2021-11-28T08:05:21.025431Z",
     "start_time": "2021-11-28T08:05:20.196772Z"
    }
   },
   "outputs": [],
   "source": [
    "import numpy as np\n",
    "from sympy import *\n",
    "import math\n",
    "import matplotlib.pyplot as plt\n",
    "import mpl_toolkits.axisartist as axisartist\n",
    "from scipy.optimize import minimize\n",
    "from numpy import *\n",
    "import sys\n",
    "import time"
   ]
  },
  {
   "cell_type": "markdown",
   "id": "a30df3c8",
   "metadata": {},
   "source": [
    "# 线搜索方法"
   ]
  },
  {
   "cell_type": "markdown",
   "id": "3ff6b8bd",
   "metadata": {},
   "source": [
    "## 精确线搜索 "
   ]
  },
  {
   "cell_type": "code",
   "execution_count": 2,
   "id": "59661710",
   "metadata": {
    "ExecuteTime": {
     "end_time": "2021-11-28T08:05:21.028761Z",
     "start_time": "2021-11-28T08:05:21.026576Z"
    }
   },
   "outputs": [],
   "source": [
    "def step_accurate(g, x, alpha, p):\n",
    "    cond = np.dot(g(x + alpha * p),p) == 0\n",
    "    return cond"
   ]
  },
  {
   "cell_type": "markdown",
   "id": "4e5641ee",
   "metadata": {},
   "source": [
    "## 强Wolfe准则"
   ]
  },
  {
   "cell_type": "code",
   "execution_count": 3,
   "id": "44b639cc",
   "metadata": {
    "ExecuteTime": {
     "end_time": "2021-11-28T08:05:21.033031Z",
     "start_time": "2021-11-28T08:05:21.030422Z"
    }
   },
   "outputs": [],
   "source": [
    "def step_wolfe(f, g, x, alpha, p, rho,sigma):\n",
    "    result = f(x + alpha * p)\n",
    "    first_cond = abs(np.dot(g(x + alpha * p),p)) <= -sigma*np.dot(g(x),p)\n",
    "    second_cond = result <= f(x) + rho * alpha * np.dot(g(x), p)\n",
    "    return first_cond and second_cond"
   ]
  },
  {
   "cell_type": "markdown",
   "id": "06a88c52",
   "metadata": {},
   "source": [
    "## Armijo准则"
   ]
  },
  {
   "cell_type": "code",
   "execution_count": 4,
   "id": "b65fc530",
   "metadata": {
    "ExecuteTime": {
     "end_time": "2021-11-28T08:05:21.036361Z",
     "start_time": "2021-11-28T08:05:21.034227Z"
    }
   },
   "outputs": [],
   "source": [
    "def armijo(gk,dk,x0,p,sigma):\n",
    "    return fun(x0+p*dk) < fun(x0) + sigma*p*np.dot(gk,dk)\n",
    "#因为有的优化算法使用精确线搜索一直没有收敛，使用Armijo准则加以比较"
   ]
  },
  {
   "cell_type": "markdown",
   "id": "c4c239fd",
   "metadata": {},
   "source": [
    "## Goldstein 条件"
   ]
  },
  {
   "cell_type": "code",
   "execution_count": 5,
   "id": "138df521",
   "metadata": {
    "ExecuteTime": {
     "end_time": "2021-11-28T08:05:21.039977Z",
     "start_time": "2021-11-28T08:05:21.037340Z"
    }
   },
   "outputs": [],
   "source": [
    "def step_goldstein(f,g,x,alpha,p,rho):\n",
    "    result = f(x + alpha * p)\n",
    "    first_cond = f(x) + (1-rho) * alpha * np.matmul(g(x).T,p) <= result\n",
    "    second_cond = result <= f(x) + rho * alpha * np.matmul(g(x).T, p)\n",
    "    return first_cond and second_cond\n",
    "#为简便比较过程，仅以强Wolfe准则和Armijo准则作为非精确线搜索方法的代表"
   ]
  },
  {
   "cell_type": "markdown",
   "id": "0527fb0f",
   "metadata": {},
   "source": [
    "# 最速下降方法"
   ]
  },
  {
   "cell_type": "code",
   "execution_count": 6,
   "id": "9cb13b9b",
   "metadata": {
    "ExecuteTime": {
     "end_time": "2021-11-28T08:05:21.044938Z",
     "start_time": "2021-11-28T08:05:21.040840Z"
    }
   },
   "outputs": [],
   "source": [
    "def gradient(fun,gfun,x0):\n",
    "    #最速下降法求解无约束问题\n",
    "    # x0是初始点，fun和gfun分别是目标函数和梯度\n",
    "    start = time.process_time()\n",
    "    maxk = 5000\n",
    "    rho = 0.5\n",
    "    sigma = 0.4\n",
    "    k = 0\n",
    "    epsilon = 1e-5\n",
    " \n",
    "    while k<maxk:\n",
    "        gk = gfun(x0)\n",
    "        dk = -gk\n",
    "        if np.linalg.norm(dk) < epsilon:\n",
    "            break\n",
    "        m = 0\n",
    "        mk = 0\n",
    "        while m< 20:\n",
    "            if armijo(gk,dk,x0,rho**m,sigma):\n",
    "            #if step_accurate(gfun, x0, mk, dk):\n",
    "                mk = m\n",
    "                break\n",
    "            m += 1\n",
    "        x0 += rho**mk*dk\n",
    "        k += 1\n",
    "        end = time.process_time()\n",
    "    print(\"==================================================================\")\n",
    "    print(\"运行时间为：\",end-start)\n",
    "    print(\"终点：\",x0)\n",
    "    print(\"最小值：\",round(fun(x0),3))\n",
    "    print(\"迭代次数：\",k)\n",
    "    #return x0,fun(x0),k\n",
    "\n",
    "#gradient(fun,gfun,[0,0])"
   ]
  },
  {
   "cell_type": "markdown",
   "id": "2e40b51f",
   "metadata": {},
   "source": [
    "# 阻尼Newton方法"
   ]
  },
  {
   "cell_type": "markdown",
   "id": "1e9e47dd",
   "metadata": {},
   "source": [
    "## 阻尼Newton方法——精确线搜索"
   ]
  },
  {
   "cell_type": "code",
   "execution_count": 7,
   "id": "1c06c1d6",
   "metadata": {
    "ExecuteTime": {
     "end_time": "2021-11-28T08:05:21.058371Z",
     "start_time": "2021-11-28T08:05:21.053931Z"
    }
   },
   "outputs": [],
   "source": [
    "def dampnm_acc(fun,gfun,hess,x0):\n",
    "    #import time\n",
    "    start = time.process_time()\n",
    "    # 用阻尼牛顿法求解无约束问题\n",
    "    # x0是初始点，fun，gfun和hess分别是目标函数值，梯度，海森矩阵的函数\n",
    "    maxk = 500\n",
    "    rho = 0.55\n",
    "    sigma = 0.4\n",
    "    k = 0\n",
    "    epsilon = 1e-5\n",
    "    while k < maxk:\n",
    "        gk = gfun(x0)\n",
    "        Gk = hess(x0)\n",
    "        dk = -1.0*np.linalg.solve(Gk,gk)\n",
    "        if np.linalg.norm(dk) < epsilon: # ord：范数类型, 默认是二范数\n",
    "            break\n",
    "        m = 0\n",
    "        mk = 0\n",
    "        while m < 20:\n",
    "            #if fun(x0+rho**m*dk) < fun(x0) + sigma*rho**m*np.dot(gk,dk):\n",
    "            if step_accurate(gfun, x0, rho**m, dk):\n",
    "                mk = m\n",
    "                break\n",
    "            m += 1\n",
    "        x0 += rho**mk*dk\n",
    "        k += 1\n",
    "        end = time.process_time()\n",
    "    print(\"阻尼Newton方法——精确线搜索:\")\n",
    "    print(\"运行时间为：\",end-start)\n",
    "    print(\"终点：\",x0)\n",
    "    print(\"最小值：\",round(fun(x0),3))\n",
    "    print(\"迭代次数：\",k)\n",
    "    print('调用Hessian矩阵{}次，调用梯度{}次，调用函数{}次'\n",
    "                .format(count_G, count_g, count_f))"
   ]
  },
  {
   "cell_type": "markdown",
   "id": "9640d599",
   "metadata": {},
   "source": [
    "## 阻尼Newton方法——强Wolf准则"
   ]
  },
  {
   "cell_type": "code",
   "execution_count": 8,
   "id": "e37617dc",
   "metadata": {
    "ExecuteTime": {
     "end_time": "2021-11-28T08:05:21.172055Z",
     "start_time": "2021-11-28T08:05:21.167960Z"
    }
   },
   "outputs": [],
   "source": [
    "def dampnm_wol(fun,gfun,hess,x0):\n",
    "    # 用阻尼牛顿法求解无约束问题\n",
    "    #x0是初始点，fun，gfun和hess分别是目标函数值，梯度，海森矩阵的函数\n",
    "    start = time.process_time()\n",
    "    maxk = 500\n",
    "    rho = 0.55\n",
    "    sigma = 0.4\n",
    "    k = 0\n",
    "    epsilon = 1e-5\n",
    "    while k < maxk:\n",
    "        gk = gfun(x0)\n",
    "        Gk = hess(x0)\n",
    "        dk = -1.0*np.linalg.solve(Gk,gk)\n",
    "        if np.linalg.norm(dk) < epsilon: # ord：范数类型, 默认是二范数\n",
    "            break\n",
    "        m = 0\n",
    "        mk = 0\n",
    "        while m < 20:\n",
    "            #if fun(x0+rho**m*dk) < fun(x0) + sigma*rho**m*np.dot(gk,dk):\n",
    "            if step_wolfe(fun, gfun, x0, rho**m, dk, 0.3,sigma):\n",
    "                mk = m\n",
    "                break\n",
    "            m += 1\n",
    "        x0 += rho**mk*dk\n",
    "        k += 1\n",
    "        end = time.process_time()\n",
    "    print(\"阻尼Newton方法——强Wolf准则:\")\n",
    "    print(\"运行时间为：\",end-start)\n",
    "    print(\"终点：\",x0)\n",
    "    print(\"最小值：\",round(fun(x0),3))\n",
    "    print(\"迭代次数：\",k)\n",
    "    print('调用Hessian矩阵{}次，调用梯度{}次，调用函数{}次'\n",
    "                .format(count_G, count_g, count_f))"
   ]
  },
  {
   "cell_type": "markdown",
   "id": "810ee015",
   "metadata": {},
   "source": [
    "## 阻尼Newton方法——Armijo准则"
   ]
  },
  {
   "cell_type": "code",
   "execution_count": 9,
   "id": "b040f51a",
   "metadata": {
    "ExecuteTime": {
     "end_time": "2021-11-28T08:05:21.306883Z",
     "start_time": "2021-11-28T08:05:21.290462Z"
    }
   },
   "outputs": [],
   "source": [
    "def dampnm_arm(fun,gfun,hess,x0):\n",
    "    # 用阻尼牛顿法求解无约束问题\n",
    "    # x0是初始点，fun，gfun和hess分别是目标函数值，梯度，海森矩阵的函数\n",
    "    start = time.process_time()\n",
    "    maxk = 500\n",
    "    rho = 0.55\n",
    "    sigma = 0.4\n",
    "    k = 0\n",
    "    epsilon = 1e-5\n",
    "    while k < maxk:\n",
    "        gk = gfun(x0)\n",
    "        Gk = hess(x0)\n",
    "        dk = -1.0*np.linalg.solve(Gk,gk)\n",
    "        if np.linalg.norm(dk) < epsilon: # ord：范数类型, 默认是二范数\n",
    "            break\n",
    "        m = 0\n",
    "        mk = 0\n",
    "        while m < 20:\n",
    "            if armijo(gk,dk,x0,rho**m,sigma):\n",
    "            #if step_wolfe(fun, gfun, x0, rho**m, dk, 0.3,sigma):\n",
    "                mk = m\n",
    "                break\n",
    "            m += 1\n",
    "        x0 += rho**mk*dk\n",
    "        k += 1\n",
    "        end = time.process_time()\n",
    "    print(\"阻尼Newton方法——Armijo准则:\")\n",
    "    print(\"运行时间为：\",end-start)\n",
    "    print(\"终点：\",x0)\n",
    "    print(\"最小值：\",round(fun(x0),3))\n",
    "    print(\"迭代次数：\",k)\n",
    "    print('调用Hessian矩阵{}次，调用梯度{}次，调用函数{}次'\n",
    "                .format(count_G, count_g, count_f))"
   ]
  },
  {
   "cell_type": "markdown",
   "id": "993aa742",
   "metadata": {},
   "source": [
    "# 修正Newton方法"
   ]
  },
  {
   "cell_type": "markdown",
   "id": "8df5f5b1",
   "metadata": {},
   "source": [
    "## 修正Newton方法——精确线搜索"
   ]
  },
  {
   "cell_type": "code",
   "execution_count": 10,
   "id": "5793e7a8",
   "metadata": {
    "ExecuteTime": {
     "end_time": "2021-11-28T08:05:21.471669Z",
     "start_time": "2021-11-28T08:05:21.459606Z"
    }
   },
   "outputs": [],
   "source": [
    "def revisenm_acc(fun,gfun,hess,x0):\n",
    "    # 用修正牛顿法求解无约束问题\n",
    "    #x0是初始点，fun，gfun和hess分别是目标函数值，梯度，海森矩阵的函数\n",
    "    start = time.process_time()\n",
    "    maxk = 1e5\n",
    "    n = np.shape(x0)[0]\n",
    "    rho = 0.55\n",
    "    sigma = 0.4\n",
    "    tau = 0.0\n",
    "    k = 0\n",
    "    epsilon = 1e-5\n",
    " \n",
    "    while k < maxk:\n",
    "        gk = gfun(x0)      \n",
    "        if  np.linalg.norm(gk) < epsilon:\n",
    "            break\n",
    "        muk = np.power(np.linalg.norm(gk),1+tau)\n",
    "        Gk = hess(x0)\n",
    "        Ak = Gk + muk*np.eye(n)\n",
    "        dk = -1.0*np.linalg.solve(Ak,gk)\n",
    "        m = 0\n",
    "        mk = 0\n",
    "        while m < 20:\n",
    "            #if fun(x0+rho**m*dk) < fun(x0) + sigma*rho**m*np.dot(gk,dk):\n",
    "            if step_accurate(gfun, x0, rho**m, dk):\n",
    "                mk = m\n",
    "                break\n",
    "            m += 1\n",
    "        x0 += rho**mk*dk\n",
    "        k += 1\n",
    "        end = time.process_time()\n",
    "    print(\"修正Newton方法——精确线搜索:\")\n",
    "    print(\"运行时间为：\",end-start)\n",
    "    print(\"终点：\",x0)\n",
    "    print(\"最小值：\",round(fun(x0),3))\n",
    "    print(\"迭代次数：\",k)\n",
    "    print('调用Hessian矩阵{}次，调用梯度{}次，调用函数{}次'\n",
    "                .format(count_G, count_g, count_f))"
   ]
  },
  {
   "cell_type": "markdown",
   "id": "4e42a286",
   "metadata": {},
   "source": [
    "## 修正Newton方法——强Wolf准则 "
   ]
  },
  {
   "cell_type": "code",
   "execution_count": 11,
   "id": "3ea848ba",
   "metadata": {
    "ExecuteTime": {
     "end_time": "2021-11-28T08:05:21.592816Z",
     "start_time": "2021-11-28T08:05:21.579574Z"
    }
   },
   "outputs": [],
   "source": [
    "def revisenm_wol(fun,gfun,hess,x0):\n",
    "    # 用修正牛顿法求解无约束问题\n",
    "    #x0是初始点，fun，gfun和hess分别是目标函数值，梯度，海森矩阵的函数\n",
    "    start = time.process_time()\n",
    "    maxk = 1e5\n",
    "    n = np.shape(x0)[0]\n",
    "    rho = 0.55\n",
    "    sigma = 0.4\n",
    "    tau = 0.0\n",
    "    k = 0\n",
    "    epsilon = 1e-5\n",
    " \n",
    "    while k < maxk:\n",
    "        gk = gfun(x0)      \n",
    "        if  np.linalg.norm(gk) < epsilon:\n",
    "            break\n",
    "        muk = np.power(np.linalg.norm(gk),1+tau)\n",
    "        Gk = hess(x0)\n",
    "        Ak = Gk + muk*np.eye(n)\n",
    "        dk = -1.0*np.linalg.solve(Ak,gk)\n",
    "        m = 0\n",
    "        mk = 0\n",
    "        while m < 20:\n",
    "            #if fun(x0+rho**m*dk) < fun(x0) + sigma*rho**m*np.dot(gk,dk):\n",
    "            if step_wolfe(fun, gfun, x0, rho**m, dk, 0.3,sigma):\n",
    "                mk = m\n",
    "                break\n",
    "            m += 1\n",
    "        x0 += rho**mk*dk\n",
    "        k += 1\n",
    "        end = time.process_time()\n",
    "    print(\"修正Newton方法——强Wolf准则:\")\n",
    "    print(\"运行时间为：\",end-start)\n",
    "    print(\"终点：\",x0)\n",
    "    print(\"最小值：\",round(fun(x0),3))\n",
    "    print(\"迭代次数：\",k)\n",
    "    print('调用Hessian矩阵{}次，调用梯度{}次，调用函数{}次'\n",
    "                .format(count_G, count_g, count_f))"
   ]
  },
  {
   "cell_type": "markdown",
   "id": "82a3f665",
   "metadata": {},
   "source": [
    "## 修正Newton方法——Armijo准则"
   ]
  },
  {
   "cell_type": "code",
   "execution_count": 12,
   "id": "d3249068",
   "metadata": {
    "ExecuteTime": {
     "end_time": "2021-11-28T08:05:21.711373Z",
     "start_time": "2021-11-28T08:05:21.698960Z"
    }
   },
   "outputs": [],
   "source": [
    "def revisenm_arm(fun,gfun,hess,x0):\n",
    "    # 用修正牛顿法求解无约束问题\n",
    "    #x0是初始点，fun，gfun和hess分别是目标函数值，梯度，海森矩阵的函数\n",
    "    start = time.process_time()\n",
    "    maxk = 1e5\n",
    "    n = np.shape(x0)[0]\n",
    "    rho = 0.55\n",
    "    sigma = 0.4\n",
    "    tau = 0.0\n",
    "    k = 0\n",
    "    epsilon = 1e-5\n",
    " \n",
    "    while k < maxk:\n",
    "        gk = gfun(x0)      \n",
    "        if  np.linalg.norm(gk) < epsilon:\n",
    "            break\n",
    "        muk = np.power(np.linalg.norm(gk),1+tau)\n",
    "        Gk = hess(x0)\n",
    "        Ak = Gk + muk*np.eye(n)\n",
    "        dk = -1.0*np.linalg.solve(Ak,gk)\n",
    "        m = 0\n",
    "        mk = 0\n",
    "        while m < 20:\n",
    "            if armijo(gk,dk,x0,rho**m,sigma):\n",
    "            #if step_wolfe(fun, gfun, x0, rho**m, dk, 0.3,sigma):\n",
    "                mk = m\n",
    "                break\n",
    "            m += 1\n",
    "        x0 += rho**mk*dk\n",
    "        k += 1\n",
    "        end = time.process_time()\n",
    "    print(\"修正Newton方法——Armijo准则:\")\n",
    "    print(\"运行时间为：\",end-start)\n",
    "    print(\"终点：\",x0)\n",
    "    print(\"最小值：\",round(fun(x0),3))\n",
    "    print(\"迭代次数：\",k)\n",
    "    print('调用Hessian矩阵{}次，调用梯度{}次，调用函数{}次'\n",
    "                .format(count_G, count_g, count_f))"
   ]
  },
  {
   "cell_type": "markdown",
   "id": "0c94cbbf",
   "metadata": {},
   "source": [
    "# SR1"
   ]
  },
  {
   "cell_type": "markdown",
   "id": "706f43fe",
   "metadata": {},
   "source": [
    "## SR1——精确线搜索"
   ]
  },
  {
   "cell_type": "code",
   "execution_count": 13,
   "id": "a9357978",
   "metadata": {
    "ExecuteTime": {
     "end_time": "2021-11-28T08:05:21.900992Z",
     "start_time": "2021-11-28T08:05:21.881640Z"
    }
   },
   "outputs": [],
   "source": [
    "def sr1_acc(fun,gfun,hess,x0):\n",
    "    #功能：用SR1算法求解无约束问题：min fun(x)\n",
    "    #输入：x0是初始点，fun,gfun分别是目标函数和梯度\n",
    "    #输出：x,val分别是近似最优点和最优解,k是迭代次数  \n",
    "    start = time.process_time()\n",
    "    maxk = 1e5\n",
    "    rho = 0.55\n",
    "    sigma = 0.4\n",
    "    epsilon = 1e-5\n",
    "    k = 0\n",
    "    n = np.shape(x0)[0]\n",
    "    #海森矩阵可以初始化为单位矩阵\n",
    "    Bk = np.eye(n) #np.linalg.inv(hess(x0))\n",
    " \n",
    "    while k < maxk:\n",
    "        gk = gfun(x0)\n",
    "        if np.linalg.norm(gk) < epsilon:\n",
    "            break\n",
    "        dk = -1.0*np.linalg.solve(Bk,gk)\n",
    "        m = 0\n",
    "        mk = 0\n",
    "        while m < 20: \n",
    "            if step_accurate(gfun, x0, rho**m, dk):\n",
    "                mk = m\n",
    "                break\n",
    "            m += 1\n",
    " \n",
    "        x = x0 + rho**mk*dk\n",
    "        sk = x - x0\n",
    "        yk = gfun(x) - gk   \n",
    " \n",
    "        if np.dot(sk,yk) > 0:    \n",
    "            Bs = np.dot(Bk,sk)\n",
    "            ys = yk-Bs\n",
    " \n",
    "            Bk = Bk +np.dot((ys).reshape((len(ys),1)),(ys).reshape((1,len(ys))))/np.dot(ys,sk)\n",
    " \n",
    "        k += 1\n",
    "        x0 = x\n",
    "        end = time.process_time()\n",
    "    print(\"SR1——精确线搜索:\")\n",
    "    print(\"运行时间为：\",end-start)\n",
    "    print(\"终点：\",x0)\n",
    "    print(\"最小值：\",round(fun(x0),3))\n",
    "    print(\"迭代次数：\",k)\n",
    "    print('调用Hessian矩阵{}次，调用梯度{}次，调用函数{}次'\n",
    "                .format(count_G, count_g, count_f))"
   ]
  },
  {
   "cell_type": "markdown",
   "id": "cdeb2b42",
   "metadata": {},
   "source": [
    "## SR1——强Wolf准则"
   ]
  },
  {
   "cell_type": "code",
   "execution_count": 14,
   "id": "a96e4d9a",
   "metadata": {
    "ExecuteTime": {
     "end_time": "2021-11-28T08:05:22.015894Z",
     "start_time": "2021-11-28T08:05:21.998641Z"
    }
   },
   "outputs": [],
   "source": [
    "def sr1_wol(fun,gfun,hess,x0):\n",
    "    #功能：用SR1算法求解无约束问题：min fun(x)\n",
    "    #输入：x0是初始点，fun,gfun分别是目标函数和梯度\n",
    "    #输出：x,val分别是近似最优点和最优解,k是迭代次数  \n",
    "    start = time.process_time()\n",
    "    maxk = 1e5\n",
    "    rho = 0.55\n",
    "    sigma = 0.4\n",
    "    epsilon = 1e-5\n",
    "    k = 0\n",
    "    n = np.shape(x0)[0]\n",
    "    #海森矩阵可以初始化为单位矩阵\n",
    "    Bk = np.eye(n) #np.linalg.inv(hess(x0))\n",
    " \n",
    "    while k < maxk:\n",
    "        gk = gfun(x0)\n",
    "        if np.linalg.norm(gk) < epsilon:\n",
    "            break\n",
    "        dk = -1.0*np.linalg.solve(Bk,gk)\n",
    "        m = 0\n",
    "        mk = 0\n",
    "        while m < 20: \n",
    "            if step_wolfe(fun, gfun, x0, rho**m, dk, 0.3,sigma):\n",
    "                mk = m\n",
    "                break\n",
    "            m += 1\n",
    " \n",
    "        x = x0 + rho**mk*dk\n",
    "        sk = x - x0\n",
    "        yk = gfun(x) - gk   \n",
    " \n",
    "        if np.dot(sk,yk) > 0:    \n",
    "            Bs = np.dot(Bk,sk)\n",
    "            ys = yk-Bs\n",
    " \n",
    "            Bk = Bk +np.dot((ys).reshape((len(ys),1)),(ys).reshape((1,len(ys))))/np.dot(ys,sk)\n",
    " \n",
    "        k += 1\n",
    "        x0 = x\n",
    "        end = time.process_time()\n",
    "    print(\"SR1——强Wolf准则:\")\n",
    "    print(\"运行时间为：\",end-start)\n",
    "    print(\"终点：\",x0)\n",
    "    print(\"最小值：\",round(fun(x0),3))\n",
    "    print(\"迭代次数：\",k)\n",
    "    print('调用Hessian矩阵{}次，调用梯度{}次，调用函数{}次'\n",
    "                .format(count_G, count_g, count_f))"
   ]
  },
  {
   "cell_type": "markdown",
   "id": "a0755c40",
   "metadata": {},
   "source": [
    "## SR1——Armijo准则"
   ]
  },
  {
   "cell_type": "code",
   "execution_count": 15,
   "id": "8f966d1e",
   "metadata": {
    "ExecuteTime": {
     "end_time": "2021-11-28T08:05:22.135785Z",
     "start_time": "2021-11-28T08:05:22.116772Z"
    }
   },
   "outputs": [],
   "source": [
    "def sr1_arm(fun,gfun,hess,x0):\n",
    "    #功能：用SR1算法求解无约束问题：min fun(x)\n",
    "    #输入：x0是初始点，fun,gfun分别是目标函数和梯度\n",
    "    #输出：x,val分别是近似最优点和最优解,k是迭代次数  \n",
    "    start = time.process_time()\n",
    "    maxk = 1e5\n",
    "    rho = 0.55\n",
    "    sigma = 0.4\n",
    "    epsilon = 1e-5\n",
    "    k = 0\n",
    "    n = np.shape(x0)[0]\n",
    "    #海森矩阵可以初始化为单位矩阵\n",
    "    Bk = np.eye(n) #np.linalg.inv(hess(x0))\n",
    " \n",
    "    while k < maxk:\n",
    "        gk = gfun(x0)\n",
    "        if np.linalg.norm(gk) < epsilon:\n",
    "            break\n",
    "        dk = -1.0*np.linalg.solve(Bk,gk)\n",
    "        m = 0\n",
    "        mk = 0\n",
    "        while m < 20: \n",
    "            if armijo(gk,dk,x0,rho**m,sigma):\n",
    "                mk = m\n",
    "                break\n",
    "            m += 1\n",
    " \n",
    "        x = x0 + rho**mk*dk\n",
    "        sk = x - x0\n",
    "        yk = gfun(x) - gk   \n",
    " \n",
    "        if np.dot(sk,yk) > 0:    \n",
    "            Bs = np.dot(Bk,sk)\n",
    "            ys = yk-Bs\n",
    " \n",
    "            Bk = Bk +np.dot((ys).reshape((len(ys),1)),(ys).reshape((1,len(ys))))/np.dot(ys,sk)\n",
    " \n",
    "        k += 1\n",
    "        x0 = x\n",
    "        end = time.process_time()\n",
    "    print(\"SR1——Armijo准则:\")\n",
    "    print(\"运行时间为：\",end-start)\n",
    "    print(\"终点：\",x0)\n",
    "    print(\"最小值：\",round(fun(x0),3))\n",
    "    print(\"迭代次数：\",k)\n",
    "    print('调用Hessian矩阵{}次，调用梯度{}次，调用函数{}次'\n",
    "                .format(count_G, count_g, count_f))"
   ]
  },
  {
   "cell_type": "markdown",
   "id": "94b32084",
   "metadata": {},
   "source": [
    "# BFGS"
   ]
  },
  {
   "cell_type": "markdown",
   "id": "fb04c6b6",
   "metadata": {},
   "source": [
    "## BFGS——精确线搜索"
   ]
  },
  {
   "cell_type": "code",
   "execution_count": 16,
   "id": "d22af352",
   "metadata": {
    "ExecuteTime": {
     "end_time": "2021-11-28T08:05:22.308494Z",
     "start_time": "2021-11-28T08:05:22.293825Z"
    }
   },
   "outputs": [],
   "source": [
    "def bfgs_acc(fun,gfun,hess,x0):\n",
    "    #功能：用BFGS族算法求解无约束问题：min fun(x)\n",
    "    #输入：x0是初始点，fun,gfun分别是目标函数和梯度\n",
    "    #输出：x,val分别是近似最优点和最优解,k是迭代次数  \n",
    "    start = time.process_time()  \n",
    "    maxk = 1e5\n",
    "    rho = 0.55\n",
    "    sigma = 0.4\n",
    "    epsilon = 1e-5\n",
    "    k = 0\n",
    "    n = np.shape(x0)[0]\n",
    "    #海森矩阵可以初始化为单位矩阵\n",
    "    Bk = np.eye(n) #np.linalg.inv(hess(x0))\n",
    " \n",
    "    while k < maxk:\n",
    "        gk = gfun(x0)\n",
    "        if np.linalg.norm(gk) < epsilon:\n",
    "            break\n",
    "        dk = -1.0*np.linalg.solve(Bk,gk)\n",
    "        m = 0\n",
    "        mk = 0\n",
    "        while m < 20: \n",
    "            if step_accurate(gfun, x0, rho**m, dk):\n",
    "                mk = m\n",
    "                break\n",
    "            m += 1\n",
    " \n",
    "        #BFGS校正\n",
    "        x = x0 + rho**mk*dk\n",
    "        sk = x - x0\n",
    "        yk = gfun(x) - gk   \n",
    " \n",
    "        if np.dot(sk,yk) > 0:    \n",
    "            Bs = np.dot(Bk,sk)\n",
    "            ys = np.dot(yk,sk)\n",
    "            sBs = np.dot(np.dot(sk,Bk),sk) \n",
    " \n",
    "            #Bk = Bk - 1.0*Bs.reshape((n,1))*Bs/sBs + 1.0*yk.reshape((n,1))*yk/ys\n",
    "            Bk = Bk - np.dot(Bs.reshape((n,1)),Bs.reshape((1,n)))/sBs + np.dot(yk.reshape((n,1)),yk.reshape((1,n)))/ys\n",
    " \n",
    " \n",
    "        k += 1\n",
    "        x0 = x\n",
    "        end = time.process_time()\n",
    "    print(\"BFGS——精确线搜索:\")\n",
    "    print(\"运行时间为：\",end-start)\n",
    "    print(\"终点：\",x0)\n",
    "    print(\"最小值：\",round(fun(x0),3))\n",
    "    print(\"迭代次数：\",k)\n",
    "    print('调用Hessian矩阵{}次，调用梯度{}次，调用函数{}次'\n",
    "                .format(count_G, count_g, count_f))"
   ]
  },
  {
   "cell_type": "markdown",
   "id": "74ea8cb3",
   "metadata": {},
   "source": [
    "## BFGS——强Wolf准则"
   ]
  },
  {
   "cell_type": "code",
   "execution_count": 17,
   "id": "70faf355",
   "metadata": {
    "ExecuteTime": {
     "end_time": "2021-11-28T08:05:22.434038Z",
     "start_time": "2021-11-28T08:05:22.419030Z"
    }
   },
   "outputs": [],
   "source": [
    "def bfgs_wol(fun,gfun,hess,x0):\n",
    "    #功能：用BFGS族算法求解无约束问题：min fun(x)\n",
    "    #输入：x0是初始点，fun,gfun分别是目标函数和梯度\n",
    "    #输出：x,val分别是近似最优点和最优解,k是迭代次数  \n",
    "    start = time.process_time()  \n",
    "    maxk = 1e5\n",
    "    rho = 0.55\n",
    "    sigma = 0.4\n",
    "    epsilon = 1e-5\n",
    "    k = 0\n",
    "    n = np.shape(x0)[0]\n",
    "    #海森矩阵可以初始化为单位矩阵\n",
    "    Bk = eye(n)#np.linalg.inv(hess(x0)) #或者单位矩阵np.eye(n)\n",
    " \n",
    "    while k < maxk:\n",
    "        gk = gfun(x0)\n",
    "        if np.linalg.norm(gk) < epsilon:\n",
    "            break\n",
    "        dk = -1.0*np.linalg.solve(Bk,gk)\n",
    "        m = 0\n",
    "        mk = 0\n",
    "        while m < 20: \n",
    "            if step_wolfe(fun, gfun, x0, rho**m, dk, 0.3,sigma):\n",
    "                mk = m\n",
    "                break\n",
    "            m += 1\n",
    " \n",
    "        #BFGS校正\n",
    "        x = x0 + rho**mk*dk\n",
    "        sk = x - x0\n",
    "        yk = gfun(x) - gk   \n",
    " \n",
    "        if np.dot(sk,yk) > 0:    \n",
    "            Bs = np.dot(Bk,sk)\n",
    "            ys = np.dot(yk,sk)\n",
    "            sBs = np.dot(np.dot(sk,Bk),sk) \n",
    " \n",
    "            Bk = Bk - np.dot(Bs.reshape((n,1)),Bs.reshape((1,n)))/sBs + np.dot(yk.reshape((n,1)),yk.reshape((1,n)))/ys\n",
    " \n",
    "        k += 1\n",
    "        x0 = x\n",
    " \n",
    "        end = time.process_time()\n",
    "    print(\"BFGS——强Wolf准则:\")\n",
    "    print(\"运行时间为：\",end-start)\n",
    "    print(\"终点：\",x0)\n",
    "    print(\"最小值：\",round(fun(x0),3))\n",
    "    print(\"迭代次数：\",k)\n",
    "    print('调用Hessian矩阵{}次，调用梯度{}次，调用函数{}次'.format(count_G, count_g, count_f))"
   ]
  },
  {
   "cell_type": "markdown",
   "id": "c12719bc",
   "metadata": {},
   "source": [
    "## BFGS——Armijo准则"
   ]
  },
  {
   "cell_type": "code",
   "execution_count": 18,
   "id": "560127bd",
   "metadata": {
    "ExecuteTime": {
     "end_time": "2021-11-28T08:05:22.565150Z",
     "start_time": "2021-11-28T08:05:22.549582Z"
    }
   },
   "outputs": [],
   "source": [
    "def bfgs_arm(fun,gfun,hess,x0):\n",
    "    #功能：用BFGS族算法求解无约束问题：min fun(x)\n",
    "    #输入：x0是初始点，fun,gfun分别是目标函数和梯度\n",
    "    #输出：x,val分别是近似最优点和最优解,k是迭代次数  \n",
    "    start = time.process_time()  \n",
    "    maxk = 1e5\n",
    "    rho = 0.55\n",
    "    sigma = 0.4\n",
    "    epsilon = 1e-5\n",
    "    k = 0\n",
    "    n = np.shape(x0)[0]\n",
    "    #海森矩阵可以初始化为单位矩阵\n",
    "    Bk = eye(n)#np.linalg.inv(hess(x0)) #或者单位矩阵np.eye(n)\n",
    " \n",
    "    while k < maxk:\n",
    "        gk = gfun(x0)\n",
    "        if np.linalg.norm(gk) < epsilon:\n",
    "            break\n",
    "        dk = -1.0*np.linalg.solve(Bk,gk)\n",
    "        m = 0\n",
    "        mk = 0\n",
    "        while m < 20: \n",
    "            if armijo(gk,dk,x0,rho**m,sigma):\n",
    "                mk = m\n",
    "                break\n",
    "            m += 1\n",
    " \n",
    "        #BFGS校正\n",
    "        x = x0 + rho**mk*dk\n",
    "        sk = x - x0\n",
    "        yk = gfun(x) - gk   \n",
    " \n",
    "        if np.dot(sk,yk) > 0:    \n",
    "            Bs = np.dot(Bk,sk)\n",
    "            ys = np.dot(yk,sk)\n",
    "            sBs = np.dot(np.dot(sk,Bk),sk) \n",
    " \n",
    "            Bk = Bk - np.dot(Bs.reshape((n,1)),Bs.reshape((1,n)))/sBs + np.dot(yk.reshape((n,1)),yk.reshape((1,n)))/ys\n",
    " \n",
    "        k += 1\n",
    "        x0 = x\n",
    "        end = time.process_time()\n",
    "    print(\"BFGS——Armijo准则:\")\n",
    "    print(\"运行时间为：\",end-start)\n",
    "    print(\"终点：\",x0)\n",
    "    print(\"最小值：\",round(fun(x0),3))\n",
    "    print(\"迭代次数：\",k)\n",
    "    print('调用Hessian矩阵{}次，调用梯度{}次，调用函数{}次'.format(count_G, count_g, count_f))"
   ]
  },
  {
   "cell_type": "markdown",
   "id": "d5eac753",
   "metadata": {},
   "source": [
    "# DFP"
   ]
  },
  {
   "cell_type": "markdown",
   "id": "f3b1f8f5",
   "metadata": {},
   "source": [
    "## DFP——精确线搜索"
   ]
  },
  {
   "cell_type": "code",
   "execution_count": 19,
   "id": "571fd2b5",
   "metadata": {
    "ExecuteTime": {
     "end_time": "2021-11-28T08:05:22.743682Z",
     "start_time": "2021-11-28T08:05:22.730012Z"
    }
   },
   "outputs": [],
   "source": [
    "def dfp_acc(fun,gfun,hess,x0):\n",
    "    #功能：用DFP族算法求解无约束问题：min fun(x)\n",
    "    #输入：x0是初始点，fun,gfun分别是目标函数和梯度\n",
    "    #输出：x,val分别是近似最优点和最优解,k是迭代次数\n",
    "    start = time.process_time()\n",
    "    maxk = 1e3\n",
    "    rho = 0.55\n",
    "    sigma = 0.8\n",
    "    epsilon = 1e-5\n",
    "    k = 0\n",
    "    n = np.shape(x0)[0]\n",
    "    #海森矩阵可以初始化为单位矩阵\n",
    "    Hk = np.eye(n) #np.linalg.inv(hess(x0))\n",
    " \n",
    "    while k < maxk :\n",
    "        gk = gfun(x0)\n",
    "        if np.linalg.norm(gk) < epsilon:\n",
    "            break\n",
    "        dk = -1.0*np.dot(Hk,gk)\n",
    " \n",
    "        m=0;\n",
    "        mk=0\n",
    "        while m < 20:\n",
    "            if step_accurate(gfun, x0, rho**m, dk):\n",
    "                mk = m\n",
    "                break\n",
    "            m += 1\n",
    "        #print mk\n",
    "        #DFP校正\n",
    "        x = x0 + rho**mk*dk\n",
    "        sk = x - x0\n",
    "        yk = gfun(x) - gk   \n",
    " \n",
    "        if np.dot(sk,yk) > 0:\n",
    "            Hy = np.dot(Hk,yk)\n",
    "            #print (Hy)\n",
    "            sy = np.dot(sk,yk) #向量的点积\n",
    "            yHy = np.dot(np.dot(yk,Hk),yk) # yHy是标量\n",
    "            #表达式Hy.reshape((n,1))*Hy 中Hy是向量，生成矩阵\n",
    "            Hk = Hk - np.dot(Hy.reshape((len(Hy),1)),Hy.reshape((1,len(Hy))))/yHy + np.dot(sk.reshape((len(sk),1)),sk.reshape((1,len(sk))))/sy\n",
    " \n",
    "        k += 1\n",
    "        x0 = x\n",
    "        end = time.process_time()\n",
    "    print(\"DFP——精确线搜索:\")\n",
    "    print(\"运行时间为：\",end-start)\n",
    "    print(\"终点：\",x0)\n",
    "    print(\"最小值：\",round(fun(x0),3))\n",
    "    print(\"迭代次数：\",k)\n",
    "    print('调用Hessian矩阵{}次，调用梯度{}次，调用函数{}次'\n",
    "                .format(count_G, count_g, count_f))"
   ]
  },
  {
   "cell_type": "markdown",
   "id": "449afadf",
   "metadata": {},
   "source": [
    "## DFP——强Wolf准则"
   ]
  },
  {
   "cell_type": "code",
   "execution_count": 20,
   "id": "b4c3642d",
   "metadata": {
    "ExecuteTime": {
     "end_time": "2021-11-28T08:05:22.868251Z",
     "start_time": "2021-11-28T08:05:22.850462Z"
    }
   },
   "outputs": [],
   "source": [
    "def dfp_wol(fun,gfun,hess,x0):\n",
    "    #功能：用DFP族算法求解无约束问题：min fun(x)\n",
    "    #输入：x0是初始点，fun,gfun分别是目标函数和梯度\n",
    "    #输出：x,val分别是近似最优点和最优解,k是迭代次数\n",
    "    start = time.process_time()\n",
    "    maxk = 1e3\n",
    "    rho = 0.55\n",
    "    sigma = 0.8\n",
    "    epsilon = 1e-5\n",
    "    k = 0\n",
    "    n = np.shape(x0)[0]\n",
    "    #海森矩阵可以初始化为单位矩阵\n",
    "    Hk = np.eye(n) #np.linalg.inv(hess(x0))\n",
    " \n",
    "    while k < maxk :\n",
    "        gk = gfun(x0)\n",
    "        if np.linalg.norm(gk) < epsilon:\n",
    "            break\n",
    "        dk = -1.0*np.dot(Hk,gk)\n",
    " \n",
    "        m=0;\n",
    "        mk=0\n",
    "        while m < 20: \n",
    "            #if fun(x0+rho**m*dk) < fun(x0)+sigma*rho**m*np.dot(gk,dk):\n",
    "            if step_wolfe(fun, gfun, x0, rho**m, dk, 0.3,sigma):\n",
    "                mk = m\n",
    "                break\n",
    "            m += 1\n",
    "        #print mk\n",
    "        #DFP校正\n",
    "        x = x0 + rho**mk*dk\n",
    "        sk = x - x0\n",
    "        yk = gfun(x) - gk   \n",
    " \n",
    "        if np.dot(sk,yk) > 0:\n",
    "            Hy = np.dot(Hk,yk)\n",
    "            #print (Hy)\n",
    "            sy = np.dot(sk,yk) #向量的点积\n",
    "            yHy = np.dot(np.dot(yk,Hk),yk) # yHy是标量\n",
    "            #表达式Hy.reshape((n,1))*Hy 中Hy是向量，生成矩阵\n",
    "            #Hk = Hk - 1.0*Hy.reshape((n,1))*Hy/yHy + 1.0*sk.reshape((n,1))*sk/sy\n",
    "            Hk = Hk - np.dot(Hy.reshape((len(Hy),1)),Hy.reshape((1,len(Hy))))/yHy + np.dot(sk.reshape((len(sk),1)),sk.reshape((1,len(sk))))/sy\n",
    " \n",
    " \n",
    "        k += 1\n",
    "        x0 = x\n",
    "        end = time.process_time()\n",
    "    print(\"DFP——强Wolf准则:\")\n",
    "    print(\"运行时间为：\",end-start)\n",
    "    print(\"终点：\",x0)\n",
    "    print(\"最小值：\",round(fun(x0),3))\n",
    "    print(\"迭代次数：\",k)\n",
    "    print('调用Hessian矩阵{}次，调用梯度{}次，调用函数{}次'\n",
    "                .format(count_G, count_g, count_f))"
   ]
  },
  {
   "cell_type": "markdown",
   "id": "95a39861",
   "metadata": {},
   "source": [
    "## DFP——Armijo准则"
   ]
  },
  {
   "cell_type": "code",
   "execution_count": 21,
   "id": "046bf951",
   "metadata": {
    "ExecuteTime": {
     "end_time": "2021-11-28T08:05:22.992801Z",
     "start_time": "2021-11-28T08:05:22.978202Z"
    }
   },
   "outputs": [],
   "source": [
    "def dfp_arm(fun,gfun,hess,x0):\n",
    "    #功能：用DFP族算法求解无约束问题：min fun(x)\n",
    "    #输入：x0是初始点，fun,gfun分别是目标函数和梯度\n",
    "    #输出：x,val分别是近似最优点和最优解,k是迭代次数\n",
    "    start = time.process_time()\n",
    "    maxk = 1e3\n",
    "    rho = 0.55\n",
    "    sigma = 0.8\n",
    "    epsilon = 1e-5\n",
    "    k = 0\n",
    "    n = np.shape(x0)[0]\n",
    "    #海森矩阵可以初始化为单位矩阵\n",
    "    Hk = np.eye(n) #np.linalg.inv(hess(x0))\n",
    " \n",
    "    while k < maxk :\n",
    "        gk = gfun(x0)\n",
    "        if np.linalg.norm(gk) < epsilon:\n",
    "            break\n",
    "        dk = -1.0*np.dot(Hk,gk)\n",
    " \n",
    "        m=0;\n",
    "        mk=0\n",
    "        while m < 20: \n",
    "            if armijo(gk,dk,x0,rho**m,sigma):\n",
    "            #if step_wolfe(fun, gfun, x0, rho**m, dk, 0.3,sigma):\n",
    "                mk = m\n",
    "                break\n",
    "            m += 1\n",
    "        #print mk\n",
    "        #DFP校正\n",
    "        x = x0 + rho**mk*dk\n",
    "        sk = x - x0\n",
    "        yk = gfun(x) - gk   \n",
    " \n",
    "        if np.dot(sk,yk) > 0:\n",
    "            Hy = np.dot(Hk,yk)\n",
    "            #print (Hy)\n",
    "            sy = np.dot(sk,yk) #向量的点积\n",
    "            yHy = np.dot(np.dot(yk,Hk),yk) # yHy是标量\n",
    "            #表达式Hy.reshape((n,1))*Hy 中Hy是向量，生成矩阵\n",
    "            #Hk = Hk - 1.0*Hy.reshape((n,1))*Hy/yHy + 1.0*sk.reshape((n,1))*sk/sy\n",
    "            Hk = Hk - np.dot(Hy.reshape((len(Hy),1)),Hy.reshape((1,len(Hy))))/yHy + np.dot(sk.reshape((len(sk),1)),sk.reshape((1,len(sk))))/sy\n",
    " \n",
    " \n",
    "        k += 1\n",
    "        x0 = x\n",
    "        end = time.process_time()\n",
    "    print(\"DFP——Armijo准则:\")\n",
    "    print(\"运行时间为：\",end-start)\n",
    "    print(\"终点：\",x0)\n",
    "    print(\"最小值：\",round(fun(x0),3))\n",
    "    print(\"迭代次数：\",k)\n",
    "    print('调用Hessian矩阵{}次，调用梯度{}次，调用函数{}次'\n",
    "                .format(count_G, count_g, count_f))"
   ]
  },
  {
   "cell_type": "markdown",
   "id": "a97fd701",
   "metadata": {},
   "source": [
    "# Broyden"
   ]
  },
  {
   "cell_type": "code",
   "execution_count": 22,
   "id": "cb9770bb",
   "metadata": {
    "ExecuteTime": {
     "end_time": "2021-11-28T08:05:23.123325Z",
     "start_time": "2021-11-28T08:05:23.103752Z"
    }
   },
   "outputs": [],
   "source": [
    "def broyden_Armijo(fun,gfun,hess,x0):\n",
    "    #功能：用Broyden族算法求解无约束问题：min fun(x)\n",
    "    #输入：x0是初始点，fun,gfun分别是目标函数和梯度\n",
    "    #输出：x,val分别是近似最优点和最优解,k是迭代次数\n",
    "    start = time.process_time()\n",
    "    x0 = np.array(x0)\n",
    " \n",
    "    maxk = 1e5\n",
    "    rho = 0.55;\n",
    "    sigma = 0.4;\n",
    "    epsilon = 1e-5\n",
    "    phi = 0.5;\n",
    "    k=0;\n",
    "    n = np.shape(x0)[0]\n",
    " \n",
    "    Hk = np.linalg.inv(hess(x0))\n",
    " \n",
    "    while k<maxk :\n",
    "        gk = gfun(x0)\n",
    "        if np.linalg.norm(gk) < epsilon:\n",
    "            break\n",
    "        dk = -1*np.dot(Hk,gk)\n",
    " \n",
    "        m=0;mk=0\n",
    "        while m < 20: \n",
    "            # 用Armijo搜索求步长\n",
    "            if armijo(gk,dk,x0,rho**m,sigma):\n",
    "                mk = m\n",
    "                break\n",
    "            m += 1\n",
    "        #Broyden族校正\n",
    "        x = x0 + rho**mk*dk\n",
    "        sk = x - x0\n",
    "        yk = gfun(x) - gk\n",
    " \n",
    "        Hy = np.dot(Hk,yk)\n",
    "        sy = np.dot(sk,yk)\n",
    "        yHy = np.dot(np.dot(yk,Hk),yk)\n",
    " \n",
    "        if(sy < 0.2 *yHy):\n",
    "            theta = 0.8*yHy/(yHy-sy)\n",
    "            sk = theta*sk + (1-theta)*Hy\n",
    "            sy = 0.2*yHy\n",
    " \n",
    "        vk = np.sqrt(yHy)*(sk/sy-Hy/yHy)\n",
    "        Hk = Hk - Hy.reshape((n,1))*Hy/yHy +sk.reshape((n,1))*sk/sy + phi*vk.reshape((n,1))*vk\n",
    "        k += 1\n",
    "        x0 = x\n",
    "        end = time.process_time()\n",
    "    print(\"运行时间为：\",end-start)\n",
    "    return x0,fun(x0),k #分别是最优点坐标，最优值，迭代次数"
   ]
  },
  {
   "cell_type": "markdown",
   "id": "9f2a5bbf",
   "metadata": {},
   "source": [
    "# LBFGS"
   ]
  },
  {
   "cell_type": "code",
   "execution_count": 23,
   "id": "11191999",
   "metadata": {
    "ExecuteTime": {
     "end_time": "2021-11-28T08:05:23.248120Z",
     "start_time": "2021-11-28T08:05:23.227367Z"
    }
   },
   "outputs": [],
   "source": [
    "def twoloop(s, y, rho,gk):\n",
    "    start = time.process_time()\n",
    " \n",
    "    n = len(s) #向量序列的长度\n",
    " \n",
    "    if np.shape(s)[0] >= 1:\n",
    "        #h0是标量，而非矩阵\n",
    "        h0 = 1.0*np.dot(s[-1],y[-1])/np.dot(y[-1],y[-1])\n",
    "    else:\n",
    "        h0 = 1\n",
    " \n",
    "    a = empty((n,))\n",
    " \n",
    "    q = gk.copy() \n",
    "    for i in range(n - 1, -1, -1): \n",
    "        a[i] = rho[i] * dot(s[i], q)\n",
    "        q -= a[i] * y[i]\n",
    "    z = h0*q\n",
    " \n",
    "    for i in range(n):\n",
    "        b = rho[i] * dot(y[i], z)\n",
    "        z += s[i] * (a[i] - b)\n",
    " \n",
    "    return z   \n",
    " \n",
    "def lbfgs_Armijo(fun,gfun,x0,m=5):\n",
    "    # fun和gfun分别是目标函数及其一阶导数,x0是初值,m为储存的序列的大小\n",
    "    maxk = 2000\n",
    "    rou = 0.55\n",
    "    sigma = 0.4\n",
    "    epsilon = 1e-5\n",
    "    k = 0\n",
    "    n = np.shape(x0)[0] #自变量的维度\n",
    " \n",
    "    s, y, rho = [], [], []\n",
    " \n",
    "    while k < maxk :\n",
    "        gk = gfun(x0)\n",
    "        if np.linalg.norm(gk) < epsilon:\n",
    "            break\n",
    " \n",
    "        dk = -1.0*twoloop(s, y, rho,gk)\n",
    " \n",
    "        m0=0;\n",
    "        mk=0\n",
    "        while m0 < 20: \n",
    "            # 用Armijo搜索求步长\n",
    "            if armijo(gk,dk,x0,rho**m,sigma):\n",
    "                mk = m0\n",
    "                break\n",
    "            m0 += 1\n",
    " \n",
    " \n",
    "        x = x0 + rou**mk*dk\n",
    "        sk = x - x0\n",
    "        yk = gfun(x) - gk   \n",
    " \n",
    "        if np.dot(sk,yk) > 0: #增加新的向量\n",
    "            rho.append(1.0/np.dot(sk,yk))\n",
    "            s.append(sk)\n",
    "            y.append(yk)\n",
    "        if np.shape(rho)[0] > m: #弃掉最旧向量\n",
    "            rho.pop(0)\n",
    "            s.pop(0)\n",
    "            y.pop(0)\n",
    " \n",
    "        k += 1\n",
    "        x0 = x\n",
    "        end = time.process_time()\n",
    "    print(\"运行时间为：\",end-start)\n",
    "    return x0,fun(x0),k#分别是最优点坐标，最优值，迭代次数"
   ]
  },
  {
   "cell_type": "markdown",
   "id": "331e8668",
   "metadata": {},
   "source": [
    "# 具体函数优化问题"
   ]
  },
  {
   "cell_type": "markdown",
   "id": "6565a2aa",
   "metadata": {},
   "source": [
    "##  Waston函数"
   ]
  },
  {
   "cell_type": "code",
   "execution_count": 24,
   "id": "868ccf75",
   "metadata": {
    "ExecuteTime": {
     "end_time": "2021-11-28T08:05:26.031373Z",
     "start_time": "2021-11-28T08:05:23.408400Z"
    }
   },
   "outputs": [],
   "source": [
    "count_f = 0 # 计数器，用来统计函数调用的次数\n",
    "count_g = 0 # 计数器，用来统计梯度调用的次数\n",
    "count_G = 0 # 计数器，用来统计Hessian矩阵调用的次数\n",
    "def fun(x):\n",
    "    global count_f\n",
    "    count_f += 1 # 每调用一次就将计数器的值增1\n",
    "    return flambdify(x)\n",
    "\n",
    "def gfun(y):\n",
    "    global count_g\n",
    "    count_g += 1\n",
    "    return np.array([gf(y) for gf in glambdify])\n",
    "\n",
    "def hess(y):\n",
    "    global count_G\n",
    "    count_G += 1\n",
    "    return np.array([[gf(y) for gf in Gs] for Gs in Glambdify])\n",
    "import sympy as sy\n",
    "\n",
    "m = 31\n",
    "n = 12  \n",
    "i, j = sy.symbols('i j')\n",
    "x = sy.IndexedBase('x')\n",
    "\n",
    "r1 = sy.Sum((j-1)*x[j-1]*(i/29)**(j-2), (j, 2, n))\n",
    "r2 = sy.Sum(x[j-1]*(i/29)**(j-1), (j, 1, n))\n",
    "r = r1 - r2**2 - 1\n",
    "fexpr = sy.Sum(r**2, (i, 1, m-2)) + x[0]**2 + (x[1] - x[0]**2-1)**2  # 函数表达式\n",
    "gexpr = [sy.diff(fexpr, x[i]) for i in range(n)] # 梯度函数表达式表\n",
    "Gexpr = [[sy.diff(g, x[i]) for i in range(n)] for g in gexpr]  # Hessian矩阵表达式的表\n",
    "### 生成Waston函数及其梯度、Hessian的python数值计算函数，使用numpy库\n",
    "flambdify = sy.lambdify(x, fexpr, \"numpy\")  # 函数数值计算\n",
    "glambdify = [sy.lambdify(x, gf, \"numpy\") for gf in gexpr]  # 梯度数值计算\n",
    "Glambdify = [[sy.lambdify(x, gf, \"numpy\") for gf in Gs] for Gs in Gexpr]  # Hessian矩阵数值计算"
   ]
  },
  {
   "cell_type": "code",
   "execution_count": 25,
   "id": "0b81a6c7",
   "metadata": {
    "ExecuteTime": {
     "end_time": "2021-11-28T08:05:36.781318Z",
     "start_time": "2021-11-28T08:05:26.032481Z"
    }
   },
   "outputs": [
    {
     "name": "stdout",
     "output_type": "stream",
     "text": [
      "阻尼Newton方法——精确线搜索:\n",
      "运行时间为： 4.596664\n",
      "终点： [-6.63806085e-09  1.00000164e+00 -5.63932217e-04  3.47820541e-01\n",
      " -1.56731505e-01  1.05281518e+00 -3.24727117e+00  7.28843494e+00\n",
      " -1.02718483e+01  9.07411368e+00 -4.54137548e+00  1.01201189e+00]\n",
      "最小值： 0.0\n",
      "迭代次数： 13\n",
      "调用Hessian矩阵14次，调用梯度274次，调用函数1次\n",
      "阻尼Newton方法——强Wolf准则:\n",
      "运行时间为： 3.2212069999999997\n",
      "终点： [-6.70374600e-09  1.00000164e+00 -5.63931827e-04  3.47820530e-01\n",
      " -1.56731410e-01  1.05281470e+00 -3.24726970e+00  7.28843211e+00\n",
      " -1.02718448e+01  9.07411111e+00 -4.54137440e+00  1.01201170e+00]\n",
      "最小值： 0.0\n",
      "迭代次数： 13\n",
      "调用Hessian矩阵28次，调用梯度387次，调用函数68次\n",
      "阻尼Newton方法——Armijo准则:\n",
      "运行时间为： 2.362143999999999\n",
      "终点： [-6.88394584e-09  1.00000164e+00 -5.63932367e-04  3.47820537e-01\n",
      " -1.56731467e-01  1.05281497e+00 -3.24727050e+00  7.28843360e+00\n",
      " -1.02718466e+01  9.07411241e+00 -4.54137494e+00  1.01201179e+00]\n",
      "最小值： 0.0\n",
      "迭代次数： 13\n",
      "调用Hessian矩阵42次，调用梯度401次，调用函数97次\n"
     ]
    }
   ],
   "source": [
    "dampnm_acc(fun,gfun,hess,np.zeros(n))\n",
    "dampnm_wol(fun,gfun,hess,np.zeros(n))\n",
    "dampnm_arm(fun,gfun,hess,np.zeros(n))"
   ]
  },
  {
   "cell_type": "markdown",
   "id": "b9ec113e",
   "metadata": {},
   "source": [
    "从阻尼牛顿方法输出结果看，三种线搜索方法迭代次数一致，但是尽管非精确线搜索方法调用海森矩阵、梯度、函数的计算次数更多，但非精确线搜索方法确定步长的环节更加简洁，因而整体的运行时间反而更短"
   ]
  },
  {
   "cell_type": "code",
   "execution_count": 26,
   "id": "9304f65f",
   "metadata": {
    "ExecuteTime": {
     "end_time": "2021-11-28T08:05:49.411842Z",
     "start_time": "2021-11-28T08:05:36.782880Z"
    }
   },
   "outputs": [
    {
     "name": "stdout",
     "output_type": "stream",
     "text": [
      "修正Newton方法——精确线搜索:\n",
      "运行时间为： 4.8159980000000004\n",
      "终点： [-3.17039378e-06  9.99959043e-01  1.73611378e-03  3.16137946e-01\n",
      "  6.90198937e-02  1.42212798e-02  6.09773191e-02  7.96576744e-02\n",
      "  3.34881427e-02 -3.79372867e-02 -5.47907447e-02  7.49385662e-02]\n",
      "最小值： 0.0\n",
      "迭代次数： 14\n",
      "调用Hessian矩阵56次，调用梯度696次，调用函数98次\n",
      "修正Newton方法——强Wolf准则:\n",
      "运行时间为： 5.279613000000001\n",
      "终点： [-3.17039378e-06  9.99959043e-01  1.73611378e-03  3.16137946e-01\n",
      "  6.90198937e-02  1.42212798e-02  6.09773191e-02  7.96576744e-02\n",
      "  3.34881427e-02 -3.79372867e-02 -5.47907447e-02  7.49385662e-02]\n",
      "最小值： 0.0\n",
      "迭代次数： 14\n",
      "调用Hessian矩阵70次，调用梯度1038次，调用函数317次\n",
      "修正Newton方法——Armijo准则:\n",
      "运行时间为： 2.494347000000001\n",
      "终点： [-3.17039378e-06  9.99959043e-01  1.73611378e-03  3.16137946e-01\n",
      "  6.90198937e-02  1.42212798e-02  6.09773191e-02  7.96576744e-02\n",
      "  3.34881427e-02 -3.79372867e-02 -5.47907447e-02  7.49385662e-02]\n",
      "最小值： 0.0\n",
      "迭代次数： 14\n",
      "调用Hessian矩阵84次，调用梯度1053次，调用函数346次\n"
     ]
    }
   ],
   "source": [
    "revisenm_acc(fun,gfun,hess,np.zeros(n))\n",
    "revisenm_wol(fun,gfun,hess,np.zeros(n))\n",
    "revisenm_arm(fun,gfun,hess,np.zeros(n))"
   ]
  },
  {
   "cell_type": "markdown",
   "id": "6e35a5f4",
   "metadata": {},
   "source": [
    "从修正牛顿方法输出结果看，三种线搜索方法迭代次数一致，但是强Wolfe准则调用海森矩阵、梯度、函数的计算次数更多，尽管非精确线搜索更加省时间，也仍然整体的运行时间也更长；但是Armijo准则的判断条件相比于Wolfe准则更少，运行时间最短。"
   ]
  },
  {
   "cell_type": "code",
   "execution_count": 27,
   "id": "abc57271",
   "metadata": {
    "ExecuteTime": {
     "end_time": "2021-11-28T08:07:01.759000Z",
     "start_time": "2021-11-28T08:05:49.413283Z"
    },
    "scrolled": true
   },
   "outputs": [
    {
     "name": "stdout",
     "output_type": "stream",
     "text": [
      "SR1——精确线搜索:\n",
      "运行时间为： 63.9418\n",
      "终点： [-3.58115433e-08  1.00000165e+00 -5.63335302e-04  3.47812261e-01\n",
      " -1.56674015e-01  1.05257968e+00 -3.24666368e+00  7.28741686e+00\n",
      " -1.02707379e+01  9.07335097e+00 -4.54107514e+00  1.01196010e+00]\n",
      "最小值： 0.0\n",
      "迭代次数： 352\n",
      "调用Hessian矩阵84次，调用梯度8798次，调用函数347次\n",
      "SR1——强Wolf准则:\n",
      "运行时间为： 7.419729000000004\n",
      "终点： [-3.00096038e-06  1.00002357e+00  3.92521793e-04  3.23231871e-01\n",
      "  5.51013521e-02  2.03244904e-02  7.08144466e-02  7.63619724e-02\n",
      "  2.33551731e-02 -3.87248416e-02 -4.33549333e-02  6.98779741e-02]\n",
      "最小值： 0.0\n",
      "迭代次数： 34\n",
      "调用Hessian矩阵84次，调用梯度9671次，调用函数884次\n",
      "SR1——Armijo准则:\n",
      "运行时间为： 0.8830800000000067\n",
      "终点： [-3.09072314e-06  1.00002382e+00  3.85974703e-04  3.23274576e-01\n",
      "  5.49922281e-02  2.04166989e-02  7.08575626e-02  7.63035374e-02\n",
      "  2.32959665e-02 -3.87018795e-02 -4.32808997e-02  6.98358141e-02]\n",
      "最小值： 0.0\n",
      "迭代次数： 44\n",
      "调用Hessian矩阵84次，调用梯度9760次，调用函数1313次\n"
     ]
    }
   ],
   "source": [
    "sr1_acc(fun,gfun,hess,np.zeros(n))\n",
    "sr1_wol(fun,gfun,hess,np.zeros(n))\n",
    "sr1_arm(fun,gfun,hess,np.zeros(n))"
   ]
  },
  {
   "cell_type": "markdown",
   "id": "100792d6",
   "metadata": {},
   "source": [
    "从SR1方法输出结果看，精确线搜索方法的迭代次数明显最大，两种非精确线搜索方法中强Wolfe准则迭代次数更少，使用Armijo准则运行时间最短，使用精确线搜索方法运行时间最长。"
   ]
  },
  {
   "cell_type": "code",
   "execution_count": 28,
   "id": "29c30e5f",
   "metadata": {
    "ExecuteTime": {
     "end_time": "2021-11-28T08:07:14.115567Z",
     "start_time": "2021-11-28T08:07:01.760094Z"
    },
    "scrolled": true
   },
   "outputs": [
    {
     "name": "stdout",
     "output_type": "stream",
     "text": [
      "BFGS——强Wolf准则:\n",
      "运行时间为： 11.569340999999994\n",
      "终点： [-2.93931325e-06  1.00002335e+00  3.95976754e-04  3.23211039e-01\n",
      "  5.51539163e-02  2.02816334e-02  7.07889135e-02  7.63911027e-02\n",
      "  2.33902162e-02 -3.87355501e-02 -4.34000627e-02  6.99031577e-02]\n",
      "最小值： 0.0\n",
      "迭代次数： 44\n",
      "调用Hessian矩阵84次，调用梯度11118次，调用函数2160次\n",
      "BFGS——Armijo准则:\n",
      "运行时间为： 0.7663869999999946\n",
      "终点： [-3.00088825e-06  1.00002354e+00  3.93307016e-04  3.23228086e-01\n",
      "  5.51072735e-02  2.03243990e-02  7.08090185e-02  7.63612352e-02\n",
      "  2.33593323e-02 -3.87228761e-02 -4.33585283e-02  6.98788221e-02]\n",
      "最小值： 0.0\n",
      "迭代次数： 42\n",
      "调用Hessian矩阵84次，调用梯度11203次，调用函数2325次\n"
     ]
    }
   ],
   "source": [
    "#bfgs_acc(fun,gfun,hess,np.zeros(n))\n",
    "bfgs_wol(fun,gfun,hess,np.zeros(n))\n",
    "bfgs_arm(fun,gfun,hess,np.zeros(n))"
   ]
  },
  {
   "cell_type": "markdown",
   "id": "de7165e7",
   "metadata": {},
   "source": [
    "从BFGS方法输出结果看，精确线搜索无法收敛，此处略去结果。其他两种非精确线搜索方法中Armijo准则迭代次数更少，尽管Armijo准则调用梯度、函数的计算次数更多但其判断步长所需条件更少，仍然整体的运行时间也更短"
   ]
  },
  {
   "cell_type": "code",
   "execution_count": 29,
   "id": "034661d0",
   "metadata": {
    "ExecuteTime": {
     "end_time": "2021-11-28T08:11:18.135616Z",
     "start_time": "2021-11-28T08:07:14.116454Z"
    }
   },
   "outputs": [
    {
     "name": "stdout",
     "output_type": "stream",
     "text": [
      "DFP——精确线搜索:\n",
      "运行时间为： 181.894756\n",
      "终点： [nan nan nan nan nan nan nan nan nan nan nan nan]\n",
      "最小值： nan\n",
      "迭代次数： 1000\n",
      "调用Hessian矩阵84次，调用梯度33203次，调用函数2326次\n",
      "DFP——强Wolf准则:\n",
      "运行时间为： 43.03223200000002\n",
      "终点： [ 1.33113065e-04  9.99910792e-01  4.37708561e-03  3.05481764e-01\n",
      "  7.62071194e-02  2.82509314e-02  5.85953379e-02  6.17720028e-02\n",
      "  2.16792853e-02 -2.61319212e-02 -3.02298070e-02  5.77870200e-02]\n",
      "最小值： 0.0\n",
      "迭代次数： 1000\n",
      "调用Hessian矩阵84次，调用梯度38305次，调用函数4395次\n",
      "DFP——Armijo准则:\n",
      "运行时间为： 18.667880000000025\n",
      "终点： [-5.55217638e-04  1.00021149e+00 -3.89553602e-03  3.36530989e-01\n",
      "  4.38871926e-02  1.34565658e-02  7.38114252e-02  8.30439499e-02\n",
      "  2.67734908e-02 -4.11689003e-02 -4.82734744e-02  7.17781364e-02]\n",
      "最小值： 0.0\n",
      "迭代次数： 1000\n",
      "调用Hessian矩阵84次，调用梯度40305次，调用函数10460次\n"
     ]
    }
   ],
   "source": [
    "dfp_acc(fun,gfun,hess,np.zeros(n))\n",
    "dfp_wol(fun,gfun,hess,np.zeros(n))\n",
    "dfp_arm(fun,gfun,hess,np.zeros(n))"
   ]
  },
  {
   "cell_type": "markdown",
   "id": "0339b607",
   "metadata": {},
   "source": [
    "从DFP方法输出结果看，精确线搜索方法1000步内未收敛，强Wolf准则下调用海森矩阵、梯度、函数的计算次数更少，但Armijo准则下整体的运行时间也更短"
   ]
  },
  {
   "cell_type": "markdown",
   "id": "2cccb023",
   "metadata": {},
   "source": [
    "##  Discrete Boundary Value"
   ]
  },
  {
   "cell_type": "code",
   "execution_count": 30,
   "id": "2e190863",
   "metadata": {
    "ExecuteTime": {
     "end_time": "2021-11-28T08:11:35.528766Z",
     "start_time": "2021-11-28T08:11:18.136991Z"
    }
   },
   "outputs": [],
   "source": [
    "count_f = 0 # 计数器，用来统计函数调用的次数\n",
    "count_g = 0 # 计数器，用来统计梯度调用的次数\n",
    "count_G = 0 # 计数器，用来统计Hessian矩阵调用的次数\n",
    "def fun(x):\n",
    "    global count_f\n",
    "    count_f += 1 # 每调用一次就将计数器的值增1\n",
    "    return flambdify(x)\n",
    "\n",
    "def gfun(y):\n",
    "    global count_g\n",
    "    count_g += 1\n",
    "    return np.array([gf(y) for gf in glambdify])\n",
    "\n",
    "def hess(y):\n",
    "    global count_G\n",
    "    count_G += 1\n",
    "    return np.array([[gf(y) for gf in Gs] for Gs in Glambdify])\n",
    "import sympy as sy\n",
    "\n",
    "m = 31\n",
    "n = 31  \n",
    "i, j = sy.symbols('i j')\n",
    "x = sy.IndexedBase('x')\n",
    "r = 2*x[i-1]-x[i-2]-x[i]+((1/(n+1))**2)*((x[i-1]+i*(1/(n+1))+1)**3)/2\n",
    "fexpr = (2*x[0]-x[1]+((1/(n+1))**2)*((x[0]+(1/(n+1))+1)**3)/2)**2+sy.Sum(r**2, (i, 2, m-1))+(2*x[n-1]-x[n-2]+((1/(n+1))**2)*((x[n-1]+n*(1/(n+1))+1)**3)/2)**2 # 函数表达式\n",
    "gexpr = [sy.diff(fexpr, x[i]) for i in range(n+2)] # 梯度函数表达式表\n",
    "Gexpr = [[sy.diff(g, x[i]) for i in range(n+2)] for g in gexpr]  # Hessian矩阵表达式的表\n",
    "\n",
    "flambdify = sy.lambdify(x, fexpr, \"numpy\")  # 函数数值计算\n",
    "glambdify = [sy.lambdify(x, gf, \"numpy\") for gf in gexpr]  # 梯度数值计算\n",
    "Glambdify = [[sy.lambdify(x, gf, \"numpy\") for gf in Gs] for Gs in Gexpr]  # Hessian矩阵数值计算"
   ]
  },
  {
   "cell_type": "code",
   "execution_count": 31,
   "id": "cfdfa3d6",
   "metadata": {
    "ExecuteTime": {
     "end_time": "2021-11-28T08:11:35.533145Z",
     "start_time": "2021-11-28T08:11:35.531001Z"
    }
   },
   "outputs": [],
   "source": [
    "h=1/(n+1)\n",
    "ti=[i*h for i in list(range(0,n+1))]\n",
    "x0=[t*(t-1) for t in ti]\n",
    "x0.append(0)\n",
    "ti.append(0)"
   ]
  },
  {
   "cell_type": "code",
   "execution_count": 32,
   "id": "c12075d0",
   "metadata": {
    "ExecuteTime": {
     "end_time": "2021-11-28T08:11:35.536269Z",
     "start_time": "2021-11-28T08:11:35.534933Z"
    }
   },
   "outputs": [],
   "source": [
    "#dampnm_acc(fun,gfun,hess,x0)\n",
    "#dampnm_wol(fun,gfun,hess,x0)\n",
    "#dampnm_arm(fun,gfun,hess,x0)"
   ]
  },
  {
   "cell_type": "markdown",
   "id": "d043bb8d",
   "metadata": {},
   "source": [
    "从阻尼牛顿方法输出结果看，此时算法无法收敛。"
   ]
  },
  {
   "cell_type": "code",
   "execution_count": 33,
   "id": "05a9a763",
   "metadata": {
    "ExecuteTime": {
     "end_time": "2021-11-28T08:11:38.124655Z",
     "start_time": "2021-11-28T08:11:35.537162Z"
    }
   },
   "outputs": [
    {
     "name": "stdout",
     "output_type": "stream",
     "text": [
      "修正Newton方法——精确线搜索:\n",
      "运行时间为： 5.050370999999984\n",
      "终点： [-0.01559256 -0.03067072 -0.0452069  -0.05917191 -0.07253489 -0.08526312\n",
      " -0.09732191 -0.10867441 -0.11928142 -0.12910113 -0.13808892 -0.14619703\n",
      " -0.15337426 -0.15956558 -0.16471173 -0.16874875 -0.17160746 -0.17321283\n",
      " -0.17348331 -0.17233008 -0.16965615 -0.16535534 -0.15931116 -0.15139545\n",
      " -0.14146687 -0.12936915 -0.11492901 -0.09795381 -0.07822871 -0.05551343\n",
      " -0.02953837 -0.03027344  0.        ]\n",
      "最小值： 0.0\n",
      "迭代次数： 4\n",
      "调用Hessian矩阵4次，调用梯度85次，调用函数1次\n",
      "修正Newton方法——强Wolf准则:\n",
      "运行时间为： 4.476517000000001\n",
      "终点： [-0.01559256 -0.03067072 -0.0452069  -0.05917191 -0.07253489 -0.08526312\n",
      " -0.09732191 -0.10867441 -0.11928142 -0.12910113 -0.13808892 -0.14619703\n",
      " -0.15337426 -0.15956558 -0.16471173 -0.16874875 -0.17160746 -0.17321283\n",
      " -0.17348331 -0.17233008 -0.16965615 -0.16535534 -0.15931116 -0.15139545\n",
      " -0.14146687 -0.12936915 -0.11492901 -0.09795381 -0.07822871 -0.05551343\n",
      " -0.02953837 -0.03027344  0.        ]\n",
      "最小值： 0.0\n",
      "迭代次数： 4\n",
      "调用Hessian矩阵8次，调用梯度102次，调用函数10次\n",
      "修正Newton方法——Armijo准则:\n",
      "运行时间为： 3.936493999999982\n",
      "终点： [-0.01559256 -0.03067072 -0.0452069  -0.05917191 -0.07253489 -0.08526312\n",
      " -0.09732191 -0.10867441 -0.11928142 -0.12910113 -0.13808892 -0.14619703\n",
      " -0.15337426 -0.15956558 -0.16471173 -0.16874875 -0.17160746 -0.17321283\n",
      " -0.17348331 -0.17233008 -0.16965615 -0.16535534 -0.15931116 -0.15139545\n",
      " -0.14146687 -0.12936915 -0.11492901 -0.09795381 -0.07822871 -0.05551343\n",
      " -0.02953837 -0.03027344  0.        ]\n",
      "最小值： 0.0\n",
      "迭代次数： 4\n",
      "调用Hessian矩阵12次，调用梯度107次，调用函数19次\n"
     ]
    }
   ],
   "source": [
    "revisenm_acc(fun,gfun,hess,x0)\n",
    "revisenm_wol(fun,gfun,hess,x0)\n",
    "revisenm_arm(fun,gfun,hess,x0)"
   ]
  },
  {
   "cell_type": "markdown",
   "id": "6d57cc58",
   "metadata": {},
   "source": [
    "从修正牛顿方法输出结果看，三种线搜索方法迭代次数一致，但是尽管Armijo准则下调用海森矩阵、梯度、函数的计算次数更多，也仍然整体的运行时间最短；而精确线搜索下运行时间最长。"
   ]
  },
  {
   "cell_type": "code",
   "execution_count": 34,
   "id": "c0e5cade",
   "metadata": {
    "ExecuteTime": {
     "end_time": "2021-11-28T08:11:45.147588Z",
     "start_time": "2021-11-28T08:11:38.125687Z"
    }
   },
   "outputs": [
    {
     "name": "stdout",
     "output_type": "stream",
     "text": [
      "SR1——精确线搜索:\n",
      "运行时间为： 17.71779600000002\n",
      "终点： [-0.01536886 -0.03022587 -0.04454593 -0.05830221 -0.07146605 -0.08400684\n",
      " -0.09589177 -0.10708575 -0.11755107 -0.12724726 -0.13613073 -0.14415455\n",
      " -0.15126811 -0.15741677 -0.16254143 -0.16657811 -0.16945734 -0.17110363\n",
      " -0.17143481 -0.17036125 -0.16778499 -0.16359875 -0.15768478 -0.14991357\n",
      " -0.14014231 -0.12821319 -0.11395131 -0.09716235 -0.0776298  -0.05511169\n",
      " -0.02933678 -0.03027344  0.        ]\n",
      "最小值： 0.0\n",
      "迭代次数： 37\n",
      "调用Hessian矩阵12次，调用梯度922次，调用函数20次\n",
      "SR1——强Wolf准则:\n",
      "运行时间为： 17.729196\n",
      "终点： [-0.01531309 -0.03011674 -0.04438818 -0.05810274 -0.07123359 -0.08375148\n",
      " -0.0956245  -0.10681783 -0.11729352 -0.12701031 -0.1359234  -0.14398429\n",
      " -0.15114053 -0.15733545 -0.16250791 -0.16659186 -0.16951598 -0.1712031\n",
      " -0.17156965 -0.17052492 -0.16797018 -0.16379776 -0.15788983 -0.15011708\n",
      " -0.14033716 -0.12839289 -0.11411014 -0.09729544 -0.07773317 -0.05518233\n",
      " -0.02937263 -0.03027344  0.        ]\n",
      "最小值： 0.0\n",
      "迭代次数： 36\n",
      "调用Hessian矩阵12次，调用梯度1763次，调用函数533次\n",
      "SR1——Armijo准则:\n",
      "运行时间为： 1.7796190000000252\n",
      "终点： [-0.01536241 -0.03021322 -0.04452755 -0.05827884 -0.07143866 -0.08397654\n",
      " -0.09585977 -0.10705326 -0.11751924 -0.12721708 -0.13610307 -0.14413008\n",
      " -0.15124729 -0.15739984 -0.16252841 -0.1665688  -0.16945142 -0.17110066\n",
      " -0.17143429 -0.17036263 -0.16778774 -0.16360236 -0.15768882 -0.14991768\n",
      " -0.14014623 -0.12821672 -0.11395433 -0.0971648  -0.07763164 -0.05511292\n",
      " -0.0293374  -0.03027344  0.        ]\n",
      "最小值： 0.0\n",
      "迭代次数： 36\n",
      "调用Hessian矩阵12次，调用梯度1836次，调用函数1016次\n"
     ]
    }
   ],
   "source": [
    "sr1_acc(fun,gfun,hess,x0)\n",
    "sr1_wol(fun,gfun,hess,x0)\n",
    "sr1_arm(fun,gfun,hess,x0)"
   ]
  },
  {
   "cell_type": "markdown",
   "id": "40910a93",
   "metadata": {},
   "source": [
    "从SR1方法输出结果看，三种线搜索方法迭代次数相近，与修正牛顿方法结果相似，Armijo准则下调用梯度、函数的计算次数更多，也仍然整体的运行时间最短；而精确线搜索下运行时间与强Wolf准则下相近。 "
   ]
  },
  {
   "cell_type": "code",
   "execution_count": 35,
   "id": "17422e09",
   "metadata": {
    "ExecuteTime": {
     "end_time": "2021-11-28T08:11:52.668171Z",
     "start_time": "2021-11-28T08:11:45.148922Z"
    }
   },
   "outputs": [
    {
     "name": "stdout",
     "output_type": "stream",
     "text": [
      "BFGS——强Wolf准则:\n",
      "运行时间为： 38.478836\n",
      "终点： [-0.01542965 -0.03034517 -0.04471921 -0.05852241 -0.07172362 -0.08429065\n",
      " -0.09619019 -0.10738743 -0.11784584 -0.12752684 -0.13638919 -0.1443881\n",
      " -0.15147453 -0.15759484 -0.16269052 -0.16669814 -0.16954924 -0.17116971\n",
      " -0.17147905 -0.17038913 -0.16780269 -0.16361219 -0.15769855 -0.14993028\n",
      " -0.14016258 -0.12823604 -0.11397473 -0.09718384 -0.07764715 -0.05512358\n",
      " -0.02934285 -0.03027344  0.        ]\n",
      "最小值： 0.0\n",
      "迭代次数： 57\n",
      "调用Hessian矩阵12次，调用梯度3574次，调用函数2099次\n",
      "BFGS——Armijo准则:\n",
      "运行时间为： 2.645175999999992\n",
      "终点： [-0.01538725 -0.03026195 -0.04459801 -0.05836814 -0.07154309 -0.08409165\n",
      " -0.09598088 -0.10717564 -0.11763838 -0.12732911 -0.13620466 -0.14421875\n",
      " -0.15132132 -0.15745831 -0.16257074 -0.16659512 -0.16946242 -0.17109776\n",
      " -0.17141928 -0.17033791 -0.16775587 -0.16356612 -0.15765079 -0.14988017\n",
      " -0.14011088 -0.12818469 -0.11392644 -0.09714162 -0.07761381 -0.05510069\n",
      " -0.02933123 -0.03027344  0.        ]\n",
      "最小值： 0.0\n",
      "迭代次数： 58\n",
      "调用Hessian矩阵12次，调用梯度3691次，调用函数2396次\n"
     ]
    }
   ],
   "source": [
    "#bfgs_acc(fun,gfun,hess,x0)\n",
    "bfgs_wol(fun,gfun,hess,x0)\n",
    "bfgs_arm(fun,gfun,hess,x0)"
   ]
  },
  {
   "cell_type": "markdown",
   "id": "4f59e82e",
   "metadata": {},
   "source": [
    "从BFGS方法输出结果看，精确线搜索方法未收敛，两种非精确线搜索方法迭代次数相近，Armijo准则下调用梯度、函数的计算次数更多，也仍然整体的运行时间明显短于强Wolf准则下。"
   ]
  },
  {
   "cell_type": "code",
   "execution_count": 36,
   "id": "53ceff74",
   "metadata": {
    "ExecuteTime": {
     "end_time": "2021-11-28T08:13:46.427232Z",
     "start_time": "2021-11-28T08:11:52.669235Z"
    }
   },
   "outputs": [
    {
     "name": "stdout",
     "output_type": "stream",
     "text": [
      "DFP——精确线搜索:\n",
      "运行时间为： 86.76857599999994\n",
      "终点： [-0.02493616 -0.04610473 -0.06173676 -0.06962496 -0.07309095 -0.0807263\n",
      " -0.09483683 -0.1120857  -0.13346903 -0.16050815 -0.19150126 -0.22017726\n",
      " -0.24361783 -0.25650093 -0.26056508 -0.26415946 -0.27269394 -0.28629272\n",
      " -0.30216574 -0.32209456 -0.3461552  -0.36478577 -0.37331755 -0.37134848\n",
      " -0.3571527  -0.3270232  -0.28433818 -0.23488618 -0.18128231 -0.12609672\n",
      " -0.0666391  -0.03027344  0.        ]\n",
      "最小值： 0.001\n",
      "迭代次数： 1000\n",
      "调用Hessian矩阵12次，调用梯度25691次，调用函数2397次\n",
      "DFP——强Wolf准则:\n",
      "运行时间为： 19.913798999999926\n",
      "终点： [-0.01604544 -0.03123856 -0.04613978 -0.0611276  -0.07576902 -0.09001191\n",
      " -0.10404993 -0.1179802  -0.13117001 -0.1435818  -0.15493756 -0.16491385\n",
      " -0.17356135 -0.18052427 -0.18536367 -0.18849139 -0.19010644 -0.19015278\n",
      " -0.18821765 -0.1847968  -0.1801721  -0.17403112 -0.16638725 -0.15714271\n",
      " -0.14599478 -0.1331528  -0.11814304 -0.1004729  -0.07994263 -0.05679759\n",
      " -0.03042603 -0.03027344  0.        ]\n",
      "最小值： 0.0\n",
      "迭代次数： 1000\n",
      "调用Hessian矩阵12次，调用梯度30808次，调用函数4476次\n",
      "DFP——Armijo准则:\n",
      "运行时间为： 8.105844999999931\n",
      "终点： [-0.01141552 -0.02199001 -0.03174136 -0.04072452 -0.04901444 -0.05673913\n",
      " -0.06421975 -0.0715792  -0.07883821 -0.0859949  -0.09293498 -0.09938605\n",
      " -0.10527906 -0.11052058 -0.11510255 -0.11907398 -0.12254316 -0.12557277\n",
      " -0.12811937 -0.13005992 -0.13117082 -0.13100837 -0.12924068 -0.12543809\n",
      " -0.11926606 -0.11058778 -0.09929773 -0.0852354  -0.06844381 -0.04883642\n",
      " -0.02608344 -0.03027344  0.        ]\n",
      "最小值： 0.0\n",
      "迭代次数： 1000\n",
      "调用Hessian矩阵12次，调用梯度32808次，调用函数10583次\n"
     ]
    }
   ],
   "source": [
    "dfp_acc(fun,gfun,hess,x0)\n",
    "dfp_wol(fun,gfun,hess,x0)\n",
    "dfp_arm(fun,gfun,hess,x0)"
   ]
  },
  {
   "cell_type": "markdown",
   "id": "3092821f",
   "metadata": {},
   "source": [
    "从DFP方法输出结果看，精确线搜索方法还未收敛，两种非精确线搜索方法中，Armijo准则下调用梯度、函数的计算次数更多，也仍然整体的运行时间明显短于强Wolf准则下，且仍然是精确线搜索方法下运行时间明显最长。"
   ]
  },
  {
   "cell_type": "markdown",
   "id": "8777b4da",
   "metadata": {},
   "source": [
    "# 总结"
   ]
  },
  {
   "cell_type": "markdown",
   "id": "455dac98",
   "metadata": {},
   "source": [
    "**<font size=3>（1）综合上述比较结果，可以看出尽管非精确线搜索方法尤其是Armijo准则在部分方法中可能会调用更多次数的海森矩阵或者梯度或者函数，但是简化了搜索步长的环节反而有明显最短的运行时间。尤其是精确线搜索的运行时间大多明显较长，甚至会出现1000步内不收敛的情况。在不同的优化算法中，三种步长的搜索准则表现差异较大，因此在具体选择步长的确定方法的时候，还是要针对不同的具体优化方法进行选择。</font>**\n",
    "    \n",
    "**<font size=3>（2）并且有的情况下，阻尼牛顿方法会因为矩阵奇异而无法收敛，说明目前来看，最常使用的还是拟牛顿方法是具有一定道理的。</font>**\n",
    "\n",
    "**<font size=3>（3）本次大作业中也编写了其他题目为要求的优化算法函数，后续也可以尝试对其他方法一起进行比较。</font>**"
   ]
  }
 ],
 "metadata": {
  "hide_input": false,
  "kernelspec": {
   "display_name": "Python 3.8.8 64-bit ('base': conda)",
   "language": "python",
   "name": "python388jvsc74a57bd0e90796501f9ee067673127206ceb143e1ce3ab374d325b1885dbdcfede7dc4d6"
  },
  "language_info": {
   "codemirror_mode": {
    "name": "ipython",
    "version": 3
   },
   "file_extension": ".py",
   "mimetype": "text/x-python",
   "name": "python",
   "nbconvert_exporter": "python",
   "pygments_lexer": "ipython3",
   "version": "3.8.8"
  },
  "nbTranslate": {
   "displayLangs": [
    "*"
   ],
   "hotkey": "alt-t",
   "langInMainMenu": true,
   "sourceLang": "en",
   "targetLang": "fr",
   "useGoogleTranslate": true
  },
  "toc": {
   "base_numbering": 1,
   "nav_menu": {},
   "number_sections": true,
   "sideBar": true,
   "skip_h1_title": false,
   "title_cell": "Table of Contents",
   "title_sidebar": "Contents",
   "toc_cell": false,
   "toc_position": {},
   "toc_section_display": true,
   "toc_window_display": false
  },
  "varInspector": {
   "cols": {
    "lenName": 16,
    "lenType": 16,
    "lenVar": 40
   },
   "kernels_config": {
    "python": {
     "delete_cmd_postfix": "",
     "delete_cmd_prefix": "del ",
     "library": "var_list.py",
     "varRefreshCmd": "print(var_dic_list())"
    },
    "r": {
     "delete_cmd_postfix": ") ",
     "delete_cmd_prefix": "rm(",
     "library": "var_list.r",
     "varRefreshCmd": "cat(var_dic_list()) "
    }
   },
   "types_to_exclude": [
    "module",
    "function",
    "builtin_function_or_method",
    "instance",
    "_Feature"
   ],
   "window_display": false
  }
 },
 "nbformat": 4,
 "nbformat_minor": 5
}
